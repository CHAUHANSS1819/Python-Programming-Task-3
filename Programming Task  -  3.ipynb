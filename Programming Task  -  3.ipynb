{
 "cells": [
  {
   "cell_type": "markdown",
   "id": "f8a36ce0",
   "metadata": {},
   "source": [
    "# Problem 1 :\n",
    "\n",
    "**Polar Coordinates**"
   ]
  },
  {
   "cell_type": "code",
   "execution_count": null,
   "id": "528a38ba",
   "metadata": {},
   "outputs": [],
   "source": [
    "import cmath\n",
    "\n",
    "z = complex(input())\n",
    "print(abs(z))\n",
    "print(cmath.phase(z))"
   ]
  },
  {
   "cell_type": "markdown",
   "id": "d636a88f",
   "metadata": {},
   "source": [
    "# Problem 2 :\n",
    "\n",
    "**Find angle MBC**"
   ]
  },
  {
   "cell_type": "code",
   "execution_count": null,
   "id": "5e672bca",
   "metadata": {},
   "outputs": [],
   "source": [
    "import math\n",
    "\n",
    "AB = float(input())\n",
    "BC = float(input())\n",
    "\n",
    "print(round(math.degrees(math.atan(AB/BC))),chr(176),sep='')"
   ]
  },
  {
   "cell_type": "markdown",
   "id": "aaf9b519",
   "metadata": {},
   "source": [
    "# Problem 3 :\n",
    "\n",
    "**Triangle Quest 2**"
   ]
  },
  {
   "cell_type": "code",
   "execution_count": null,
   "id": "a5ada1e4",
   "metadata": {},
   "outputs": [],
   "source": [
    "for i in range(1,int(input())+1):\n",
    "    print(int(((10**i - 1)/9))**2)"
   ]
  },
  {
   "cell_type": "markdown",
   "id": "4e3721aa",
   "metadata": {},
   "source": [
    "# Problem 4 :\n",
    "\n",
    "**Mod Divmod**"
   ]
  },
  {
   "cell_type": "code",
   "execution_count": null,
   "id": "91ae895f",
   "metadata": {},
   "outputs": [],
   "source": [
    "a = int(input())\n",
    "b = int(input())\n",
    "\n",
    "print(a//b)\n",
    "print(a%b)\n",
    "\n",
    "s = (a//b,a%b)\n",
    "print(s)"
   ]
  },
  {
   "cell_type": "markdown",
   "id": "c8c93cd5",
   "metadata": {},
   "source": [
    "# Problem 5 :\n",
    "\n",
    "**Power - Mod Power**"
   ]
  },
  {
   "cell_type": "code",
   "execution_count": null,
   "id": "13cb3033",
   "metadata": {},
   "outputs": [],
   "source": [
    "a = int(input())\n",
    "b = int(input())\n",
    "m = int(input())\n",
    "\n",
    "print(pow(a,b))\n",
    "print(pow(a,b,m))"
   ]
  },
  {
   "cell_type": "markdown",
   "id": "5d12d7ab",
   "metadata": {},
   "source": [
    "# Problem 6 :\n",
    "\n",
    "**Integers in all size**"
   ]
  },
  {
   "cell_type": "code",
   "execution_count": null,
   "id": "3d319cbd",
   "metadata": {},
   "outputs": [],
   "source": [
    "a = int(input())\n",
    "b = int(input())\n",
    "c = int(input())\n",
    "d = int(input())\n",
    "\n",
    "print(pow(a,b)+pow(c,d))"
   ]
  },
  {
   "cell_type": "markdown",
   "id": "6ade20d3",
   "metadata": {},
   "source": [
    "# Problem 7 :\n",
    "\n",
    "**Triangle Quest**"
   ]
  },
  {
   "cell_type": "code",
   "execution_count": null,
   "id": "ffa5ce70",
   "metadata": {},
   "outputs": [],
   "source": [
    "for i in range(1,int(input())):\n",
    "     print((pow(10,i)//9)*i)"
   ]
  }
 ],
 "metadata": {
  "kernelspec": {
   "display_name": "Python 3 (ipykernel)",
   "language": "python",
   "name": "python3"
  },
  "language_info": {
   "codemirror_mode": {
    "name": "ipython",
    "version": 3
   },
   "file_extension": ".py",
   "mimetype": "text/x-python",
   "name": "python",
   "nbconvert_exporter": "python",
   "pygments_lexer": "ipython3",
   "version": "3.9.13"
  }
 },
 "nbformat": 4,
 "nbformat_minor": 5
}
